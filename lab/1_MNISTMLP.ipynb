{
 "cells": [
  {
   "cell_type": "markdown",
   "metadata": {
    "slideshow": {
     "slide_type": "slide"
    }
   },
   "source": [
    "## Multilayer Perceptron Example\n",
    "\n",
    "MNIST dataset\n",
    "\n",
    "* 60K grayscale images (28x28)\n",
    "* Picture of a digit plus label\n",
    "\n"
   ]
  },
  {
   "cell_type": "code",
   "execution_count": 1,
   "metadata": {
    "slideshow": {
     "slide_type": "slide"
    }
   },
   "outputs": [
    {
     "name": "stderr",
     "output_type": "stream",
     "text": [
      "/Users/kannanva/anaconda3/lib/python3.6/site-packages/h5py/__init__.py:36: FutureWarning: Conversion of the second argument of issubdtype from `float` to `np.floating` is deprecated. In future, it will be treated as `np.float64 == np.dtype(float).type`.\n",
      "  from ._conv import register_converters as _register_converters\n"
     ]
    }
   ],
   "source": [
    "import mxnet as mx\n",
    "import numpy as np\n",
    "import os, time, shutil\n",
    "import zipfile, os\n",
    "from gluoncv.utils import download\n",
    "\n",
    "from mxnet import gluon, image, init, nd\n",
    "from mxnet import autograd as ag\n",
    "from mxnet.gluon import nn\n",
    "from mxnet.gluon.data.vision import transforms\n",
    "from gluoncv.utils import makedirs\n"
   ]
  },
  {
   "cell_type": "markdown",
   "metadata": {
    "slideshow": {
     "slide_type": "slide"
    }
   },
   "source": [
    "## NDArray\n",
    "\n",
    "* N Dimensional array or Tensor\n",
    "* Identified by data type, shape\n",
    "* MXNet’s primary tool for storing and transforming data."
   ]
  },
  {
   "cell_type": "code",
   "execution_count": 2,
   "metadata": {
    "slideshow": {
     "slide_type": "slide"
    }
   },
   "outputs": [
    {
     "name": "stdout",
     "output_type": "stream",
     "text": [
      "(2, 3) 6 <class 'numpy.float32'> cpu(0)\n",
      "\n",
      "[[1.7601415 3.2472587]\n",
      " [4.614921  9.687056 ]]\n",
      "<NDArray 2x2 @cpu(0)>\n",
      "<class 'numpy.ndarray'> [[1. 2. 3.]\n",
      " [5. 6. 7.]]\n"
     ]
    },
    {
     "data": {
      "text/plain": [
       "\n",
       "[[1. 2. 3.]\n",
       " [5. 6. 7.]]\n",
       "<NDArray 2x3 @cpu(0)>"
      ]
     },
     "execution_count": 2,
     "metadata": {},
     "output_type": "execute_result"
    }
   ],
   "source": [
    "# Creating a 2D Tensor\n",
    "x = nd.array(((1, 2, 3), (5, 6, 7)))\n",
    "\n",
    "# 2x3 tensor with random data\n",
    "y = nd.random.uniform(low=-1, high=1, shape=(2,3))\n",
    "\n",
    "print (x.shape, x.size, x.dtype, x.context)\n",
    "\n",
    "# matrix multiplication\n",
    "print (nd.dot(x, y.T))\n",
    "\n",
    "# convert to numpy\n",
    "a = x.asnumpy()\n",
    "print (type(a), a)\n",
    "\n",
    "# convert back to NDArray\n",
    "nd.array(a)"
   ]
  },
  {
   "cell_type": "markdown",
   "metadata": {
    "slideshow": {
     "slide_type": "slide"
    }
   },
   "source": [
    "## Automatic differentiation with autograd\n",
    "\n",
    "* Goal: minimize a loss function.\n",
    "* How?\n",
    "    1. compute the gradient of the loss with respect to weights\n",
    "    2. update the weights accordingly\n",
    "* autograd package expedites this work by automatically calculating derivatives."
   ]
  },
  {
   "cell_type": "markdown",
   "metadata": {
    "slideshow": {
     "slide_type": "slide"
    }
   },
   "source": [
    "Differentiate\n",
    "\n",
    "$f(x) = 2 x^2$ \n",
    "\n",
    "with respect to parameter $x$.\n",
    "\n",
    "$y=2x^2$  \n",
    "\n",
    "$\\frac{dy}{dx} = 4x$"
   ]
  },
  {
   "cell_type": "code",
   "execution_count": 24,
   "metadata": {
    "slideshow": {
     "slide_type": "slide"
    }
   },
   "outputs": [
    {
     "name": "stdout",
     "output_type": "stream",
     "text": [
      "\n",
      "[[1. 2.]\n",
      " [3. 4.]]\n",
      "<NDArray 2x2 @cpu(0)> \n",
      "[[ 2.  8.]\n",
      " [18. 32.]]\n",
      "<NDArray 2x2 @cpu(0)>\n"
     ]
    },
    {
     "data": {
      "text/plain": [
       "(\n",
       " [[1. 2.]\n",
       "  [3. 4.]]\n",
       " <NDArray 2x2 @cpu(0)>, \n",
       " [[ 4.  8.]\n",
       "  [12. 16.]]\n",
       " <NDArray 2x2 @cpu(0)>)"
      ]
     },
     "execution_count": 24,
     "metadata": {},
     "output_type": "execute_result"
    }
   ],
   "source": [
    "x = nd.array([[1, 2], [3, 4]])\n",
    "\n",
    "x.attach_grad()\n",
    "\n",
    "def f(x):\n",
    "    return 2 * x**2\n",
    "\n",
    "with ag.record():\n",
    "    y = f(x)\n",
    "\n",
    "print (x, y)\n",
    "\n",
    "y.backward()\n",
    "\n",
    "x, x.grad"
   ]
  },
  {
   "cell_type": "code",
   "execution_count": 3,
   "metadata": {
    "slideshow": {
     "slide_type": "fragment"
    }
   },
   "outputs": [],
   "source": [
    "from multiprocessing import cpu_count\n",
    "\n",
    "# number of CPUs avalaible\n",
    "CPU_COUNT = cpu_count()\n",
    "\n",
    "num_gpu_range = mx.test_utils.list_gpus()\n",
    "\n",
    "# set context for training or inference in future\n",
    "ctx = [mx.gpu(i) for i in num_gpu_range] \\\n",
    "if num_gpu_range.stop > num_gpu_range.start else [mx.cpu()]\n"
   ]
  },
  {
   "cell_type": "markdown",
   "metadata": {
    "slideshow": {
     "slide_type": "slide"
    }
   },
   "source": [
    "## Load data"
   ]
  },
  {
   "cell_type": "markdown",
   "metadata": {
    "slideshow": {
     "slide_type": "subslide"
    }
   },
   "source": [
    "### Handwritten digits dataset\n",
    "\n",
    "* Grayscale: one byte for color channel\n",
    "* Input data is `(batch_size, 1, 28, 28)`"
   ]
  },
  {
   "cell_type": "markdown",
   "metadata": {
    "slideshow": {
     "slide_type": "slide"
    }
   },
   "source": [
    "## Dataset, DataLoader and Transforms\n",
    "[Dataset](https://mxnet.incubator.apache.org/api/python/gluon/data.html#mxnet.gluon.data.Dataset) - used to represent collection of data.  \n",
    "[DataLoader](https://mxnet.incubator.apache.org/api/python/gluon/data.html#mxnet.gluon.data.DataLoader) - mini-batches of data from Dataset, iterator interface, can load data in parallel.  \n",
    "[Transforms](https://mxnet.incubator.apache.org/api/python/gluon/data.html#vision-transforms) - Transformations that can applied on data for augmentation, multiple transforms can composed to apply sequentially on the data. "
   ]
  },
  {
   "cell_type": "code",
   "execution_count": 4,
   "metadata": {
    "slideshow": {
     "slide_type": "slide"
    }
   },
   "outputs": [],
   "source": [
    "from mxnet import gluon\n",
    "from mxnet.gluon.data.vision import transforms\n",
    "\n",
    "batch_size = 100\n",
    "\n",
    "# Load training/test data\n",
    "train_dataset = gluon.data.vision.MNIST(train=True).transform_first(transforms.ToTensor())\n",
    "# data loader to traverse the dataset in batches.\n",
    "train_data = gluon.data.DataLoader(train_dataset, \n",
    "                                   batch_size=batch_size,\n",
    "                                   shuffle=True, \n",
    "                                   num_workers=CPU_COUNT)\n",
    "\n",
    "val_dataset = gluon.data.vision.MNIST(train=False).transform_first(transforms.ToTensor())\n",
    "val_data = gluon.data.DataLoader(val_dataset, \n",
    "                                 batch_size=batch_size, num_workers=CPU_COUNT)"
   ]
  },
  {
   "cell_type": "markdown",
   "metadata": {
    "slideshow": {
     "slide_type": "slide"
    }
   },
   "source": [
    "### Visualize the data"
   ]
  },
  {
   "cell_type": "code",
   "execution_count": 5,
   "metadata": {
    "slideshow": {
     "slide_type": "fragment"
    }
   },
   "outputs": [
    {
     "data": {
      "image/png": "[encoded data removed]",
      "text/plain": [
       "<Figure size 432x288 with 10 Axes>"
      ]
     },
     "metadata": {},
     "output_type": "display_data"
    },
    {
     "name": "stdout",
     "output_type": "stream",
     "text": [
      "label: 5 0 4 1 9 2 1 3 1 4\n"
     ]
    }
   ],
   "source": [
    "%matplotlib inline\n",
    "import matplotlib.pyplot as plt\n",
    "for i in range(10):\n",
    "    plt.subplot(1, 10, i+1)\n",
    "    plt.imshow(train_dataset[i][0][0].asnumpy(), cmap='Greys_r')\n",
    "    plt.axis('off')\n",
    "plt.show()\n",
    "print('label: %s' % ' '.join([str(train_dataset[i][1]) for i in range(10)]))"
   ]
  },
  {
   "cell_type": "markdown",
   "metadata": {
    "slideshow": {
     "slide_type": "slide"
    }
   },
   "source": [
    "### Data shape\n",
    "\n",
    "* Image batches are commonly represented by a shape (batch_size, num_channels, width, height). \n",
    "* For the MNIST dataset, the shape of input is (batch_size, 1, 28, 28)."
   ]
  },
  {
   "cell_type": "code",
   "execution_count": 6,
   "metadata": {
    "slideshow": {
     "slide_type": "slide"
    }
   },
   "outputs": [
    {
     "name": "stdout",
     "output_type": "stream",
     "text": [
      "X_batch has shape (100, 1, 28, 28), and y_batch has shape (100,)\n"
     ]
    }
   ],
   "source": [
    "data_shape = None\n",
    "label_shape = None\n",
    "for X_batch, y_batch in train_data:\n",
    "    print(\"X_batch has shape {}, and y_batch has shape {}\".format(X_batch.shape, y_batch.shape))\n",
    "    data_shape = X_batch.shape\n",
    "    label_shape = y_batch.shape\n",
    "    break"
   ]
  },
  {
   "cell_type": "markdown",
   "metadata": {
    "slideshow": {
     "slide_type": "slide"
    }
   },
   "source": [
    "## Define the network\n",
    "\n",
    "A Multi-Layer Perceptron with 3 dense/fully-connected layers.\n",
    "\n",
    "Gluon Block - Base class for all neural network layers and models.\n",
    "* A layer is a block\n",
    "* Multiple layers together can make a block\n",
    "* Nested blocks"
   ]
  },
  {
   "cell_type": "markdown",
   "metadata": {
    "slideshow": {
     "slide_type": "slide"
    }
   },
   "source": [
    "## Deep Learning Programming Styles: Imperative vs  Symbolic\n",
    "\n",
    "Imperative style:\n",
    "* Tell the machine \"how\" to do it\n",
    "* Changes the program state\n",
    "\n",
    "Symbolic/declarative style:\n",
    "* Tell the machine \"what\" to do\n",
    "* Build the structure and elements\n"
   ]
  },
  {
   "cell_type": "markdown",
   "metadata": {
    "slideshow": {
     "slide_type": "slide"
    }
   },
   "source": [
    "#### Example (Ref: http://latentflip.com/imperative-vs-declarative)\n",
    "Declarative: \n",
    "\n",
    "`SELECT * from dogs INNER JOIN owners WHERE dogs.owner_id = owners.id`\n",
    "\n",
    "Imperative:\n",
    "\n",
    "`\n",
    "//dogs = [{name: 'Fido', owner_id: 1}, {...}, ... ]\n",
    "//owners = [{id: 1, name: 'Bob'}, {...}, ...]\n",
    "\n",
    "var dogsWithOwners = []\n",
    "var dog, owner\n",
    "\n",
    "for(var di=0; di < dogs.length; di++) {\n",
    "  dog = dogs[di]\n",
    "\n",
    "  for(var oi=0; oi < owners.length; oi++) {\n",
    "    owner = owners[oi]\n",
    "    if (owner && dog.owner_id == owner.id) {\n",
    "      dogsWithOwners.push({\n",
    "        dog: dog,\n",
    "        owner: owner\n",
    "      })\n",
    "    }\n",
    "  }}\n",
    "}\n",
    "`"
   ]
  },
  {
   "cell_type": "markdown",
   "metadata": {
    "slideshow": {
     "slide_type": "slide"
    }
   },
   "source": [
    "### HybridBlock\n",
    "\n",
    "* Gluon introduces hybrid programming through HybridBlock. \n",
    "* Combines declarative programming and imperative programming. \n",
    "* Users can quickly develop and debug models with imperative programming and switch to efficient declarative execution by simply calling: HybridBlock.hybridize()."
   ]
  },
  {
   "cell_type": "code",
   "execution_count": 19,
   "metadata": {
    "slideshow": {
     "slide_type": "slide"
    }
   },
   "outputs": [],
   "source": [
    "net = nn.HybridSequential()\n",
    "\n",
    "with net.name_scope():\n",
    "    net.add(nn.Dense(128, activation='relu'))\n",
    "    net.add(nn.Dense(64, activation='relu'))\n",
    "    net.add(nn.Dense(10))"
   ]
  },
  {
   "cell_type": "code",
   "execution_count": 8,
   "metadata": {
    "slideshow": {
     "slide_type": "slide"
    }
   },
   "outputs": [],
   "source": [
    "net.hybridize()"
   ]
  },
  {
   "cell_type": "markdown",
   "metadata": {
    "slideshow": {
     "slide_type": "slide"
    }
   },
   "source": [
    "### Visualize network"
   ]
  },
  {
   "cell_type": "code",
   "execution_count": 9,
   "metadata": {
    "slideshow": {
     "slide_type": "slide"
    }
   },
   "outputs": [
    {
     "data": {
      "image/svg+xml": [
       "<?xml version=\"1.0\" encoding=\"UTF-8\" standalone=\"no\"?>\n",
       "<!DOCTYPE svg PUBLIC \"-//W3C//DTD SVG 1.1//EN\"\n",
       " \"http://www.w3.org/Graphics/SVG/1.1/DTD/svg11.dtd\">\n",
       "<!-- Generated by graphviz version 2.40.1 (20161225.0304)\n",
       " -->\n",
       "<!-- Title: plot Pages: 1 -->\n",
       "<svg width=\"142pt\" height=\"606pt\"\n",
       " viewBox=\"0.00 0.00 142.47 606.00\" xmlns=\"http://www.w3.org/2000/svg\" xmlns:xlink=\"http://www.w3.org/1999/xlink\">\n",
       "<g id=\"graph0\" class=\"graph\" transform=\"scale(1 1) rotate(0) translate(4 602)\">\n",
       "<title>plot</title>\n",
       "<polygon fill=\"#ffffff\" stroke=\"transparent\" points=\"-4,4 -4,-602 138.4732,-602 138.4732,4 -4,4\"/>\n",
       "<!-- data -->\n",
       "<g id=\"node1\" class=\"node\">\n",
       "<title>data</title>\n",
       "<ellipse fill=\"#8dd3c7\" stroke=\"#000000\" cx=\"67.2366\" cy=\"-29\" rx=\"47\" ry=\"29\"/>\n",
       "<text text-anchor=\"middle\" x=\"67.2366\" y=\"-24.8\" font-family=\"Times,serif\" font-size=\"14.00\" fill=\"#000000\">data</text>\n",
       "</g>\n",
       "<!-- hybridsequential0_dense0_fwd -->\n",
       "<g id=\"node2\" class=\"node\">\n",
       "<title>hybridsequential0_dense0_fwd</title>\n",
       "<ellipse fill=\"#fb8072\" stroke=\"#000000\" cx=\"67.2366\" cy=\"-137\" rx=\"67.474\" ry=\"29\"/>\n",
       "<text text-anchor=\"middle\" x=\"67.2366\" y=\"-139.8\" font-family=\"Times,serif\" font-size=\"14.00\" fill=\"#000000\">FullyConnected</text>\n",
       "<text text-anchor=\"middle\" x=\"67.2366\" y=\"-125.8\" font-family=\"Times,serif\" font-size=\"14.00\" fill=\"#000000\">128</text>\n",
       "</g>\n",
       "<!-- hybridsequential0_dense0_fwd&#45;&gt;data -->\n",
       "<g id=\"edge1\" class=\"edge\">\n",
       "<title>hybridsequential0_dense0_fwd&#45;&gt;data</title>\n",
       "<path fill=\"none\" stroke=\"#000000\" d=\"M67.2366,-97.6567C67.2366,-84.6329 67.2366,-70.3785 67.2366,-58.2497\"/>\n",
       "<polygon fill=\"#000000\" stroke=\"#000000\" points=\"67.2366,-107.7736 62.7367,-97.7736 67.2367,-102.7736 67.2367,-97.7736 67.2367,-97.7736 67.2367,-97.7736 67.2367,-102.7736 71.7367,-97.7737 67.2366,-107.7736 67.2366,-107.7736\"/>\n",
       "<text text-anchor=\"middle\" x=\"91.7366\" y=\"-78.8\" font-family=\"Times,serif\" font-size=\"14.00\" fill=\"#000000\">1x28x28</text>\n",
       "</g>\n",
       "<!-- hybridsequential0_dense0_relu_fwd -->\n",
       "<g id=\"node3\" class=\"node\">\n",
       "<title>hybridsequential0_dense0_relu_fwd</title>\n",
       "<ellipse fill=\"#ffffb3\" stroke=\"#000000\" cx=\"67.2366\" cy=\"-245\" rx=\"47.78\" ry=\"29\"/>\n",
       "<text text-anchor=\"middle\" x=\"67.2366\" y=\"-247.8\" font-family=\"Times,serif\" font-size=\"14.00\" fill=\"#000000\">Activation</text>\n",
       "<text text-anchor=\"middle\" x=\"67.2366\" y=\"-233.8\" font-family=\"Times,serif\" font-size=\"14.00\" fill=\"#000000\">relu</text>\n",
       "</g>\n",
       "<!-- hybridsequential0_dense0_relu_fwd&#45;&gt;hybridsequential0_dense0_fwd -->\n",
       "<g id=\"edge2\" class=\"edge\">\n",
       "<title>hybridsequential0_dense0_relu_fwd&#45;&gt;hybridsequential0_dense0_fwd</title>\n",
       "<path fill=\"none\" stroke=\"#000000\" d=\"M67.2366,-205.6567C67.2366,-192.6329 67.2366,-178.3785 67.2366,-166.2497\"/>\n",
       "<polygon fill=\"#000000\" stroke=\"#000000\" points=\"67.2366,-215.7736 62.7367,-205.7736 67.2367,-210.7736 67.2367,-205.7736 67.2367,-205.7736 67.2367,-205.7736 67.2367,-210.7736 71.7367,-205.7737 67.2366,-215.7736 67.2366,-215.7736\"/>\n",
       "<text text-anchor=\"middle\" x=\"77.7366\" y=\"-186.8\" font-family=\"Times,serif\" font-size=\"14.00\" fill=\"#000000\">128</text>\n",
       "</g>\n",
       "<!-- hybridsequential0_dense1_fwd -->\n",
       "<g id=\"node4\" class=\"node\">\n",
       "<title>hybridsequential0_dense1_fwd</title>\n",
       "<ellipse fill=\"#fb8072\" stroke=\"#000000\" cx=\"67.2366\" cy=\"-353\" rx=\"67.474\" ry=\"29\"/>\n",
       "<text text-anchor=\"middle\" x=\"67.2366\" y=\"-355.8\" font-family=\"Times,serif\" font-size=\"14.00\" fill=\"#000000\">FullyConnected</text>\n",
       "<text text-anchor=\"middle\" x=\"67.2366\" y=\"-341.8\" font-family=\"Times,serif\" font-size=\"14.00\" fill=\"#000000\">64</text>\n",
       "</g>\n",
       "<!-- hybridsequential0_dense1_fwd&#45;&gt;hybridsequential0_dense0_relu_fwd -->\n",
       "<g id=\"edge3\" class=\"edge\">\n",
       "<title>hybridsequential0_dense1_fwd&#45;&gt;hybridsequential0_dense0_relu_fwd</title>\n",
       "<path fill=\"none\" stroke=\"#000000\" d=\"M67.2366,-313.6567C67.2366,-300.6329 67.2366,-286.3785 67.2366,-274.2497\"/>\n",
       "<polygon fill=\"#000000\" stroke=\"#000000\" points=\"67.2366,-323.7736 62.7367,-313.7736 67.2367,-318.7736 67.2367,-313.7736 67.2367,-313.7736 67.2367,-313.7736 67.2367,-318.7736 71.7367,-313.7737 67.2366,-323.7736 67.2366,-323.7736\"/>\n",
       "<text text-anchor=\"middle\" x=\"77.7366\" y=\"-294.8\" font-family=\"Times,serif\" font-size=\"14.00\" fill=\"#000000\">128</text>\n",
       "</g>\n",
       "<!-- hybridsequential0_dense1_relu_fwd -->\n",
       "<g id=\"node5\" class=\"node\">\n",
       "<title>hybridsequential0_dense1_relu_fwd</title>\n",
       "<ellipse fill=\"#ffffb3\" stroke=\"#000000\" cx=\"67.2366\" cy=\"-461\" rx=\"47.78\" ry=\"29\"/>\n",
       "<text text-anchor=\"middle\" x=\"67.2366\" y=\"-463.8\" font-family=\"Times,serif\" font-size=\"14.00\" fill=\"#000000\">Activation</text>\n",
       "<text text-anchor=\"middle\" x=\"67.2366\" y=\"-449.8\" font-family=\"Times,serif\" font-size=\"14.00\" fill=\"#000000\">relu</text>\n",
       "</g>\n",
       "<!-- hybridsequential0_dense1_relu_fwd&#45;&gt;hybridsequential0_dense1_fwd -->\n",
       "<g id=\"edge4\" class=\"edge\">\n",
       "<title>hybridsequential0_dense1_relu_fwd&#45;&gt;hybridsequential0_dense1_fwd</title>\n",
       "<path fill=\"none\" stroke=\"#000000\" d=\"M67.2366,-421.6567C67.2366,-408.6329 67.2366,-394.3785 67.2366,-382.2497\"/>\n",
       "<polygon fill=\"#000000\" stroke=\"#000000\" points=\"67.2366,-431.7736 62.7367,-421.7736 67.2367,-426.7736 67.2367,-421.7736 67.2367,-421.7736 67.2367,-421.7736 67.2367,-426.7736 71.7367,-421.7737 67.2366,-431.7736 67.2366,-431.7736\"/>\n",
       "<text text-anchor=\"middle\" x=\"74.2366\" y=\"-402.8\" font-family=\"Times,serif\" font-size=\"14.00\" fill=\"#000000\">64</text>\n",
       "</g>\n",
       "<!-- hybridsequential0_dense2_fwd -->\n",
       "<g id=\"node6\" class=\"node\">\n",
       "<title>hybridsequential0_dense2_fwd</title>\n",
       "<ellipse fill=\"#fb8072\" stroke=\"#000000\" cx=\"67.2366\" cy=\"-569\" rx=\"67.474\" ry=\"29\"/>\n",
       "<text text-anchor=\"middle\" x=\"67.2366\" y=\"-571.8\" font-family=\"Times,serif\" font-size=\"14.00\" fill=\"#000000\">FullyConnected</text>\n",
       "<text text-anchor=\"middle\" x=\"67.2366\" y=\"-557.8\" font-family=\"Times,serif\" font-size=\"14.00\" fill=\"#000000\">10</text>\n",
       "</g>\n",
       "<!-- hybridsequential0_dense2_fwd&#45;&gt;hybridsequential0_dense1_relu_fwd -->\n",
       "<g id=\"edge5\" class=\"edge\">\n",
       "<title>hybridsequential0_dense2_fwd&#45;&gt;hybridsequential0_dense1_relu_fwd</title>\n",
       "<path fill=\"none\" stroke=\"#000000\" d=\"M67.2366,-529.6567C67.2366,-516.6329 67.2366,-502.3785 67.2366,-490.2497\"/>\n",
       "<polygon fill=\"#000000\" stroke=\"#000000\" points=\"67.2366,-539.7736 62.7367,-529.7736 67.2367,-534.7736 67.2367,-529.7736 67.2367,-529.7736 67.2367,-529.7736 67.2367,-534.7736 71.7367,-529.7737 67.2366,-539.7736 67.2366,-539.7736\"/>\n",
       "<text text-anchor=\"middle\" x=\"74.2366\" y=\"-510.8\" font-family=\"Times,serif\" font-size=\"14.00\" fill=\"#000000\">64</text>\n",
       "</g>\n",
       "</g>\n",
       "</svg>\n"
      ],
      "text/plain": [
       "<graphviz.dot.Digraph at 0x1a408a6dd8>"
      ]
     },
     "execution_count": 9,
     "metadata": {},
     "output_type": "execute_result"
    }
   ],
   "source": [
    "x = mx.sym.var('data')\n",
    "sym = net(x)\n",
    "mx.viz.plot_network(sym, \\\n",
    "                    node_attrs={\"shape\":\"oval\",\"fixedsize\":\"false\"}, \\\n",
    "                    shape={\"data\": data_shape})"
   ]
  },
  {
   "cell_type": "markdown",
   "metadata": {
    "slideshow": {
     "slide_type": "slide"
    }
   },
   "source": [
    "## Initialize parameters and optimizer\n"
   ]
  },
  {
   "cell_type": "code",
   "execution_count": 10,
   "metadata": {
    "scrolled": true,
    "slideshow": {
     "slide_type": "fragment"
    }
   },
   "outputs": [],
   "source": [
    "# initialize network parameters\n",
    "# Xavier initialization - avoid vanishing/exploding gradients\n",
    "# Gaussian distribution with zero mean and a suitable variance\n",
    "net.initialize(mx.init.Xavier(), ctx=ctx)\n",
    "\n",
    "# Trainer applies an Optimizer on a set of Parameters\n",
    "# Takes the parameters to be optimized, optimizer to use, and\n",
    "# optimizer params as arguments\n",
    "trainer = gluon.Trainer(net.collect_params(),\n",
    "                        'sgd',\n",
    "                        {'learning_rate': 0.02})"
   ]
  },
  {
   "cell_type": "markdown",
   "metadata": {
    "slideshow": {
     "slide_type": "slide"
    }
   },
   "source": [
    "## Train the network"
   ]
  },
  {
   "cell_type": "code",
   "execution_count": 11,
   "metadata": {
    "slideshow": {
     "slide_type": "fragment"
    }
   },
   "outputs": [],
   "source": [
    "# define accuracy metric\n",
    "metric = mx.metric.Accuracy()\n",
    "\n",
    "# define loss function\n",
    "L = gluon.loss.SoftmaxCrossEntropyLoss()"
   ]
  },
  {
   "cell_type": "code",
   "execution_count": 12,
   "metadata": {
    "slideshow": {
     "slide_type": "subslide"
    }
   },
   "outputs": [],
   "source": [
    "# validation loop\n",
    "def test(net, val_data, ctx):\n",
    "    metric = mx.metric.Accuracy()\n",
    "    for i, batch in enumerate(val_data):\n",
    "        # Splits data into `len(ctx_list)` slices along `batch_axis` and loads\n",
    "        # each slice to one context in `ctx_list`\n",
    "        data = gluon.utils.split_and_load(batch[0], ctx_list=ctx, batch_axis=0, even_split=False)\n",
    "        label = gluon.utils.split_and_load(batch[1], ctx_list=ctx, batch_axis=0, even_split=False)\n",
    "        # forward pass\n",
    "        outputs = [net(X) for X in data]\n",
    "        metric.update(label, outputs)\n",
    "\n",
    "    return metric.get()"
   ]
  },
  {
   "cell_type": "markdown",
   "metadata": {
    "slideshow": {
     "slide_type": "slide"
    }
   },
   "source": [
    "### Training Loop"
   ]
  },
  {
   "cell_type": "code",
   "execution_count": 13,
   "metadata": {
    "slideshow": {
     "slide_type": "slide"
    }
   },
   "outputs": [
    {
     "name": "stdout",
     "output_type": "stream",
     "text": [
      "[Epoch 0] Train-acc: 0.797, loss: 0.778 | Val-acc: 0.898 | time: 4.7\n",
      "[Epoch 1] Train-acc: 0.904, loss: 0.339 | Val-acc: 0.913 | time: 4.0\n",
      "[Epoch 2] Train-acc: 0.920, loss: 0.282 | Val-acc: 0.927 | time: 4.1\n",
      "[Epoch 3] Train-acc: 0.930, loss: 0.249 | Val-acc: 0.933 | time: 4.1\n",
      "[Epoch 4] Train-acc: 0.936, loss: 0.223 | Val-acc: 0.939 | time: 4.0\n",
      "[Epoch 5] Train-acc: 0.943, loss: 0.203 | Val-acc: 0.945 | time: 5.2\n",
      "[Epoch 6] Train-acc: 0.947, loss: 0.187 | Val-acc: 0.947 | time: 7.7\n",
      "[Epoch 7] Train-acc: 0.951, loss: 0.172 | Val-acc: 0.951 | time: 7.9\n",
      "[Epoch 8] Train-acc: 0.954, loss: 0.160 | Val-acc: 0.954 | time: 5.6\n",
      "[Epoch 9] Train-acc: 0.957, loss: 0.149 | Val-acc: 0.956 | time: 5.3\n"
     ]
    }
   ],
   "source": [
    "num_batch = len(train_data)\n",
    "epochs = 10\n",
    "train_losses = []\n",
    "train_accuracies = []\n",
    "val_accuracies = []\n",
    "\n",
    "for epoch in range(epochs):\n",
    "    tic = time.time()\n",
    "    train_loss = 0\n",
    "    metric.reset()\n",
    "\n",
    "    for i, batch in enumerate(train_data):\n",
    "        # Splits data into `len(ctx_list)` slices along `batch_axis` and loads\n",
    "        # each slice to one context in `ctx_list`\n",
    "        data = gluon.utils.split_and_load(batch[0], ctx_list=ctx, batch_axis=0, even_split=False)\n",
    "        label = gluon.utils.split_and_load(batch[1], ctx_list=ctx, batch_axis=0, even_split=False)\n",
    "        # autograd records computation history to calculate gradients later. \n",
    "        with ag.record():\n",
    "            # pass each slice of data to the network's forward pass and collect output            \n",
    "            outputs = [net(X) for X in data]\n",
    "            # compute loss\n",
    "            loss = [L(yhat, y) for yhat, y in zip(outputs, label)]\n",
    "        # for each loss in the batch, backpropagate            \n",
    "        for l in loss:\n",
    "            l.backward()\n",
    "        # Makes one step of parameter update.\n",
    "        trainer.step(batch_size)\n",
    "        # loss over the batch\n",
    "        train_loss += sum([l.mean().asscalar() for l in loss]) / len(loss)\n",
    "\n",
    "        # update metric\n",
    "        metric.update(label, outputs)\n",
    "\n",
    "    # metrics for the epoch\n",
    "    _, train_acc = metric.get()\n",
    "    train_loss /= num_batch\n",
    "    \n",
    "    _, val_acc = test(net, val_data, ctx)\n",
    "\n",
    "    train_losses.append(train_loss)\n",
    "    train_accuracies.append(train_acc)\n",
    "    val_accuracies.append(val_acc)\n",
    "\n",
    "    print('[Epoch %d] Train-acc: %.3f, loss: %.3f | Val-acc: %.3f | time: %.1f' %\n",
    "             (epoch, train_acc, train_loss, val_acc, time.time() - tic))"
   ]
  },
  {
   "cell_type": "markdown",
   "metadata": {
    "slideshow": {
     "slide_type": "slide"
    }
   },
   "source": [
    "### Plot Training and Validataion Loss/Accuracy "
   ]
  },
  {
   "cell_type": "code",
   "execution_count": 14,
   "metadata": {
    "slideshow": {
     "slide_type": "subslide"
    }
   },
   "outputs": [
    {
     "data": {
      "text/plain": [
       "<matplotlib.legend.Legend at 0x1a407fd6d8>"
      ]
     },
     "execution_count": 14,
     "metadata": {},
     "output_type": "execute_result"
    },
    {
     "data": {
      "image/png": "[encoded data removed]",
      "text/plain": [
       "<Figure size 864x432 with 2 Axes>"
      ]
     },
     "metadata": {},
     "output_type": "display_data"
    }
   ],
   "source": [
    "%matplotlib inline\n",
    "import matplotlib\n",
    "import matplotlib.pyplot as plt\n",
    "\n",
    "f = plt.figure(figsize=(12,6))\n",
    "fg1 = f.add_subplot(121)\n",
    "fg2 = f.add_subplot(122)\n",
    "\n",
    "fg1.set_xlabel('epoch',fontsize=14)  \n",
    "fg1.set_title('Loss over Training')\n",
    "fg1.grid(True, which=\"both\")\n",
    "fg1.plot(range(epochs), train_losses)\n",
    "\n",
    "fg2.set_title('Comparing accuracy')\n",
    "fg2.set_xlabel('epoch', fontsize=14)\n",
    "fg2.grid(True, which=\"both\")\n",
    "\n",
    "p1, = fg2.plot(range(epochs), train_accuracies)\n",
    "p2, = fg2.plot(range(epochs), val_accuracies)\n",
    "fg2.legend([p1, p2], ['training accuracy', 'validation accuracy'],fontsize=14) "
   ]
  },
  {
   "cell_type": "markdown",
   "metadata": {
    "slideshow": {
     "slide_type": "slide"
    }
   },
   "source": [
    "### Test Accuracy"
   ]
  },
  {
   "cell_type": "code",
   "execution_count": 15,
   "metadata": {
    "slideshow": {
     "slide_type": "fragment"
    }
   },
   "outputs": [
    {
     "name": "stdout",
     "output_type": "stream",
     "text": [
      "[Finished] Test-acc: 0.956\n"
     ]
    }
   ],
   "source": [
    "# evaluate the trained model by running predictions on validation dataset\n",
    "_, test_acc = test(net, val_data, ctx)\n",
    "print('[Finished] Test-acc: %.3f' % (test_acc))"
   ]
  },
  {
   "cell_type": "markdown",
   "metadata": {
    "slideshow": {
     "slide_type": "slide"
    }
   },
   "source": [
    "## Prediction\n",
    "\n",
    "* Also called _Inference_\n",
    "* Evaluate against unseen data\n",
    "* Ensure model is not overfit\n",
    "* We want models that generalize"
   ]
  },
  {
   "cell_type": "code",
   "execution_count": 16,
   "metadata": {
    "slideshow": {
     "slide_type": "slide"
    }
   },
   "outputs": [
    {
     "name": "stdout",
     "output_type": "stream",
     "text": [
      "prediction: 1, ground truth label: 1\n",
      "prediction: 9, ground truth label: 9\n",
      "prediction: 1, ground truth label: 1\n",
      "prediction: 3, ground truth label: 3\n",
      "prediction: 9, ground truth label: 9\n",
      "prediction: 0, ground truth label: 0\n",
      "prediction: 1, ground truth label: 1\n",
      "prediction: 0, ground truth label: 0\n",
      "prediction: 4, ground truth label: 4\n",
      "prediction: 9, ground truth label: 9\n"
     ]
    },
    {
     "data": {
      "image/png": "[encoded data removed]",
      "text/plain": [
       "<Figure size 432x288 with 10 Axes>"
      ]
     },
     "metadata": {},
     "output_type": "display_data"
    }
   ],
   "source": [
    "import numpy as np\n",
    "for i in range(10):\n",
    "    plt.subplot(1, 10, i+1)\n",
    "    idx = np.random.randint(1, 10000)\n",
    "    d = val_dataset[idx][0][0].asnumpy()\n",
    "    x  = (mx.nd.expand_dims(mx.nd.array(d), axis=0))\n",
    "    #forward pass\n",
    "    prediction = net(x.as_in_context(ctx[0]))\n",
    "    prediction = np.squeeze(prediction.asnumpy())\n",
    "    prediction = np.argmax(prediction)\n",
    "    print('prediction: %s, ground truth label: %s' % (prediction, val_dataset[idx][1]))\n",
    "    plt.imshow(d, cmap='Greys_r')\n",
    "    plt.axis('off')\n",
    "plt.show()"
   ]
  },
  {
   "cell_type": "markdown",
   "metadata": {
    "slideshow": {
     "slide_type": "slide"
    }
   },
   "source": [
    "## Export model"
   ]
  },
  {
   "cell_type": "code",
   "execution_count": 17,
   "metadata": {
    "slideshow": {
     "slide_type": "slide"
    }
   },
   "outputs": [],
   "source": [
    "net.export('gluon-mnist')"
   ]
  },
  {
   "cell_type": "code",
   "execution_count": 18,
   "metadata": {
    "slideshow": {
     "slide_type": "slide"
    }
   },
   "outputs": [
    {
     "name": "stdout",
     "output_type": "stream",
     "text": [
      "./gluon-mnist-0000.params ./gluon-mnist-symbol.json\r\n"
     ]
    }
   ],
   "source": [
    "!ls ./gluon-mnist*"
   ]
  },
  {
   "cell_type": "code",
   "execution_count": null,
   "metadata": {},
   "outputs": [],
   "source": []
  }
 ],
 "metadata": {
  "celltoolbar": "Slideshow",
  "display_name": "",
  "kernelspec": {
   "display_name": "Python 3",
   "language": "python",
   "name": "python3"
  },
  "language_info": {
   "codemirror_mode": {
    "name": "ipython",
    "version": 3
   },
   "file_extension": ".py",
   "mimetype": "text/x-python",
   "name": "python",
   "nbconvert_exporter": "python",
   "pygments_lexer": "ipython3",
   "version": "3.6.5"
  },
  "name": "",
  "rise": {
   "shortcuts": {
    "down": "Down Arrow",
    "up": "Up Arrow"
   }
  }
 },
 "nbformat": 4,
 "nbformat_minor": 2
}
